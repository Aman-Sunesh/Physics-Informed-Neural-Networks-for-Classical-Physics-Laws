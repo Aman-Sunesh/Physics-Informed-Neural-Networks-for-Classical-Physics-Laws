{
 "cells": [
  {
   "cell_type": "markdown",
   "id": "27586ded",
   "metadata": {},
   "source": [
    "# Solving Newton’s Law of Cooling Using Physics-Informed Neural Networks (PINNs)\n",
    "\n",
    "## Problem Statement\n",
    "\n",
    "Newton’s Law of Cooling describes how the temperature $T(t)$ of a hot object evolves as it approaches the ambient temperature $T_{\\rm ambient}$. In differential form:\n",
    "\n",
    "$$\n",
    "\\frac{dT}{dt}\\;-\\;k\\bigl(T_{\\rm ambient}-T(t)\\bigr)\\;=\\;0,\\qquad t\\ge0\n",
    "$$\n",
    "\n",
    "Where:  \n",
    "- $T(t)$ is the object’s temperature at time $t$.  \n",
    "- $T_{\\rm ambient}$ is the surrounding (ambient) temperature.  \n",
    "- $k$ is the cooling rate constant (s⁻¹).  \n",
    "- We enforce the **initial condition**  \n",
    "  $$\n",
    "  T(0) = T_{0}.\n",
    "  $$\n",
    "\n",
    "For our example we set:  \n",
    "- $T_{\\rm ambient} = 27^\\circ\\mathrm{C}$  \n",
    "- $T_{0} = 250^\\circ\\mathrm{C}$  \n",
    "- $k = 0.45\\;\\mathrm{s}^{-1}$\n",
    "\n",
    "---\n",
    "\n",
    "## Analytical Solution\n",
    "\n",
    "The exact solution of\n",
    "$$\n",
    "\\frac{dT}{dt} = k\\,(T_{\\rm ambient} - T)\n",
    "$$\n",
    "with $T(0)=T_{0}$ is\n",
    "\n",
    "$$\n",
    "\\boxed{\n",
    "T_{\\rm exact}(t)\n",
    "=\n",
    "T_{\\rm ambient}\n",
    "+\n",
    "\\bigl(T_{0} - T_{\\rm ambient}\\bigr)\\,e^{-k\\,t}\n",
    "}.\n",
    "$$\n",
    "\n",
    "This provides a reference curve against which to validate our PINN.\n",
    "\n",
    "---\n",
    "\n",
    "## PINN Objective\n",
    "\n",
    "We approximate $T(t)$ by a neural network $\\hat T(t;\\theta)$. Training minimizes the combined loss\n",
    "\n",
    "$$\n",
    "\\mathcal{L}\n",
    "=\n",
    "\\underbrace{\\mathrm{MSE}_{\\rm res}}_{\\text{ODE residual}}\n",
    "+\n",
    "\\underbrace{\\mathrm{MSE}_{\\rm ic}}_{\\text{initial condition}}\n",
    "$$\n",
    "\n",
    "where\n",
    "\n",
    "- **Residual loss**  \n",
    "  $$\n",
    "  \\mathrm{MSE}_{\\rm res}\n",
    "  =\n",
    "  \\frac{1}{N_r}\n",
    "  \\sum_{i=1}^{N_r}\n",
    "    \\Bigl(\n",
    "      \\frac{d}{dt}\\hat T(t_i)\n",
    "      -\n",
    "      k\\bigl(T_{\\rm ambient}-\\hat T(t_i)\\bigr)\n",
    "    \\Bigr)^{2},\n",
    "  $$\n",
    "  evaluated at $t_i$ sampled in the interior.\n",
    "\n",
    "- **Initial condition loss**  \n",
    "  $$\n",
    "  \\mathrm{MSE}_{\\rm ic}\n",
    "  =\n",
    "  \\bigl(\\hat T(0)-T_{0}\\bigr)^{2}.\n",
    "  $$\n",
    "\n",
    "---\n",
    "\n",
    "## Why Use PINNs?\n",
    "\n",
    "- **Mesh-free & flexible**: sample residual points anywhere in time.  \n",
    "- **Physics-aware loss**: the ODE is enforced directly.  \n",
    "- **Automatic differentiation**: easily compute $d\\hat T/dt$.  \n",
    "- **Continuous surrogate**: once trained, $\\hat T(t)$ is valid for all $t\\ge0$ without interpolation.\n",
    "\n",
    "Let’s now implement and train our PINN to recover the cooling curve!  \n"
   ]
  },
  {
   "cell_type": "code",
   "execution_count": 37,
   "id": "299778cc",
   "metadata": {},
   "outputs": [],
   "source": [
    "import torch\n",
    "import torch.nn as nn\n",
    "import numpy as np\n",
    "import matplotlib.pyplot as plt"
   ]
  },
  {
   "cell_type": "code",
   "execution_count": 38,
   "id": "f69784e3",
   "metadata": {},
   "outputs": [],
   "source": [
    "class NeuralNetwork(nn.Module):\n",
    "    def __init__(self):\n",
    "        super().__init__()\n",
    "        self.net = nn.Sequential(\n",
    "            nn.Linear(1, 50),\n",
    "            nn.Tanh(),\n",
    "            nn.Linear(50, 50),\n",
    "            nn.Tanh(),\n",
    "            nn.Linear(50, 50),\n",
    "            nn.Tanh(),\n",
    "            nn.Linear(50, 1)\n",
    "        )\n",
    "\n",
    "    def forward(self, x):\n",
    "        return self.net(x)"
   ]
  },
  {
   "cell_type": "code",
   "execution_count": 39,
   "id": "4a7886ab",
   "metadata": {},
   "outputs": [],
   "source": [
    "def ode(network, t, k, T_ambient):\n",
    "    t = t.clone().detach().requires_grad_(True)\n",
    "\n",
    "    T = network(t)   # Network Prediction\n",
    "    T_t = torch.autograd.grad(T, t, grad_outputs=torch.ones_like(T), create_graph=True)[0]   # First Derivative\n",
    "\n",
    "    return T_t - (k * (T_ambient - T))"
   ]
  },
  {
   "cell_type": "code",
   "execution_count": 40,
   "id": "0b69d07e",
   "metadata": {},
   "outputs": [],
   "source": [
    "def loss(network, t, T_ambient, t0, T0, k):\n",
    "    # ODE residual loss\n",
    "    res = ode(network, t, k, T_ambient)\n",
    "    MSE_res = torch.mean(res**2)\n",
    "\n",
    "    # initial-condition loss\n",
    "    T0_pred = network(t0)\n",
    "    MSE_ic = torch.mean((T0_pred  - T0)**2)\n",
    "\n",
    "    return MSE_res + MSE_ic"
   ]
  },
  {
   "cell_type": "code",
   "execution_count": 41,
   "id": "e66fe139",
   "metadata": {},
   "outputs": [],
   "source": [
    "def train(network, t, T_ambient, t0, T0, k, epochs, lr = 1e-3):\n",
    "    optimizer = torch.optim.Adam(network.parameters(), lr=lr)\n",
    "    loss_list = []\n",
    "\n",
    "    for epoch in range(1, epochs + 1):\n",
    "        optimizer.zero_grad()\n",
    "        loss_value = loss(network, t, T_ambient, t0, T0, k)\n",
    "        loss_list.append(loss_value.item())\n",
    "        loss_value.backward()\n",
    "        optimizer.step()\n",
    "\n",
    "        if epoch % 100 == 0 or epoch == 1:\n",
    "            print(f\"Epoch {epoch}/{epochs} — Loss: {loss_value.item():.3e}\")\n",
    "\n",
    "    return loss_list"
   ]
  },
  {
   "cell_type": "code",
   "execution_count": 42,
   "id": "0752bbe4",
   "metadata": {},
   "outputs": [
    {
     "name": "stdout",
     "output_type": "stream",
     "text": [
      "Epoch 1/1000 — Loss: 6.263e+04\n",
      "Epoch 100/1000 — Loss: 5.834e+04\n",
      "Epoch 200/1000 — Loss: 5.561e+04\n",
      "Epoch 300/1000 — Loss: 5.313e+04\n",
      "Epoch 400/1000 — Loss: 5.079e+04\n",
      "Epoch 500/1000 — Loss: 4.857e+04\n",
      "Epoch 600/1000 — Loss: 4.645e+04\n",
      "Epoch 700/1000 — Loss: 4.442e+04\n",
      "Epoch 800/1000 — Loss: 4.243e+04\n",
      "Epoch 900/1000 — Loss: 4.049e+04\n",
      "Epoch 1000/1000 — Loss: 3.861e+04\n"
     ]
    }
   ],
   "source": [
    "# Collocation points in the interior\n",
    "t_train = np.linspace(0, 12, 1000).reshape(-1,1)\n",
    "t_train = torch.tensor(t_train, dtype=torch.float32)\n",
    "\n",
    "# \n",
    "T_ambient = 27\n",
    "k = 0.45\n",
    "t0 = torch.tensor([[0.0]],   dtype=torch.float32)\n",
    "T0 = torch.tensor([[250.0]], dtype=torch.float32)\n",
    "\n",
    "# Training hyperparameters\n",
    "epochs = 1000\n",
    "lr = 1e-3\n",
    "\n",
    "#  Instantiate and train the model\n",
    "model = NeuralNetwork()\n",
    "loss_list = train(model, t_train, T_ambient, t0, T0, k, epochs, lr)\n"
   ]
  },
  {
   "cell_type": "code",
   "execution_count": 43,
   "id": "22e19c04",
   "metadata": {},
   "outputs": [
    {
     "data": {
      "image/png": "[encoded data removed]",
      "text/plain": [
       "<Figure size 600x400 with 1 Axes>"
      ]
     },
     "metadata": {},
     "output_type": "display_data"
    }
   ],
   "source": [
    "plt.figure(figsize=(6,4))\n",
    "plt.plot(range(1, epochs+1), loss_list)\n",
    "plt.xlabel('Epoch')\n",
    "plt.ylabel('Loss')\n",
    "plt.title('Training Loss over Epochs')\n",
    "plt.grid(True)\n",
    "plt.tight_layout()\n",
    "plt.show()"
   ]
  },
  {
   "cell_type": "markdown",
   "id": "efb9ea7f",
   "metadata": {},
   "source": [
    "### Testing the model"
   ]
  },
  {
   "cell_type": "code",
   "execution_count": 44,
   "id": "84cc7e52",
   "metadata": {},
   "outputs": [],
   "source": [
    "def analytical(t, T_ambient, T0, k):\n",
    "    return T_ambient + ((T0 - T_ambient) * np.exp(-k*t))"
   ]
  },
  {
   "cell_type": "code",
   "execution_count": null,
   "id": "3ad166d4",
   "metadata": {},
   "outputs": [
    {
     "name": "stderr",
     "output_type": "stream",
     "text": [
      "/tmp/ipykernel_51596/3025031586.py:2: UserWarning: To copy construct from a tensor, it is recommended to use sourceTensor.detach().clone() or sourceTensor.detach().clone().requires_grad_(True), rather than torch.tensor(sourceTensor).\n",
      "  t_test = torch.tensor(t_test, dtype=torch.float32)\n",
      "/tmp/ipykernel_51596/661614847.py:2: DeprecationWarning: __array_wrap__ must accept context and return_scalar arguments (positionally) in the future. (Deprecated NumPy 2.0)\n",
      "  return T_ambient + ((T0 - T_ambient) * np.exp(-k*t))\n"
     ]
    }
   ],
   "source": [
    "t_test = torch.linspace(0, 12, 200).unsqueeze(1)\n",
    "t_test = torch.tensor(t_test, dtype=torch.float32)\n",
    "\n",
    "model.eval()\n",
    "\n",
    "with torch.no_grad():\n",
    "    y_pred = model(t_test)\n",
    "\n",
    "y_pred_np = y_pred.cpu().numpy()\n",
    "\n",
    "# Analytical Solution\n",
    "t_test_np = t_test.cpu().numpy().flatten()\n",
    "y_true = analytical(t_test_np, T_ambient, T0, k)"
   ]
  },
  {
   "cell_type": "code",
   "execution_count": 50,
   "id": "bd494d54",
   "metadata": {},
   "outputs": [
    {
     "ename": "ValueError",
     "evalue": "x and y must have same first dimension, but have shapes (200, 1) and (1, 200)",
     "output_type": "error",
     "traceback": [
      "\u001b[31m---------------------------------------------------------------------------\u001b[39m",
      "\u001b[31mValueError\u001b[39m                                Traceback (most recent call last)",
      "\u001b[36mCell\u001b[39m\u001b[36m \u001b[39m\u001b[32mIn[50]\u001b[39m\u001b[32m, line 4\u001b[39m\n\u001b[32m      1\u001b[39m \u001b[38;5;66;03m# Plot the Results\u001b[39;00m\n\u001b[32m      2\u001b[39m plt.figure(figsize=(\u001b[32m6\u001b[39m,\u001b[32m4\u001b[39m))\n\u001b[32m----> \u001b[39m\u001b[32m4\u001b[39m \u001b[43mplt\u001b[49m\u001b[43m.\u001b[49m\u001b[43mplot\u001b[49m\u001b[43m(\u001b[49m\u001b[43mt_test\u001b[49m\u001b[43m,\u001b[49m\u001b[43m \u001b[49m\u001b[43my_true\u001b[49m\u001b[43m,\u001b[49m\u001b[43m \u001b[49m\u001b[43mlabel\u001b[49m\u001b[43m=\u001b[49m\u001b[33;43m'\u001b[39;49m\u001b[33;43mAnalytical\u001b[39;49m\u001b[33;43m'\u001b[39;49m\u001b[43m)\u001b[49m\n\u001b[32m      5\u001b[39m plt.plot(t_test, y_pred_np, label=\u001b[33m'\u001b[39m\u001b[33mPINN Prediction\u001b[39m\u001b[33m'\u001b[39m)\n\u001b[32m      6\u001b[39m plt.xlabel(\u001b[33m'\u001b[39m\u001b[33mt\u001b[39m\u001b[33m'\u001b[39m)\n",
      "\u001b[36mFile \u001b[39m\u001b[32m~/.local/lib/python3.12/site-packages/matplotlib/pyplot.py:3838\u001b[39m, in \u001b[36mplot\u001b[39m\u001b[34m(scalex, scaley, data, *args, **kwargs)\u001b[39m\n\u001b[32m   3830\u001b[39m \u001b[38;5;129m@_copy_docstring_and_deprecators\u001b[39m(Axes.plot)\n\u001b[32m   3831\u001b[39m \u001b[38;5;28;01mdef\u001b[39;00m\u001b[38;5;250m \u001b[39m\u001b[34mplot\u001b[39m(\n\u001b[32m   3832\u001b[39m     *args: \u001b[38;5;28mfloat\u001b[39m | ArrayLike | \u001b[38;5;28mstr\u001b[39m,\n\u001b[32m   (...)\u001b[39m\u001b[32m   3836\u001b[39m     **kwargs,\n\u001b[32m   3837\u001b[39m ) -> \u001b[38;5;28mlist\u001b[39m[Line2D]:\n\u001b[32m-> \u001b[39m\u001b[32m3838\u001b[39m     \u001b[38;5;28;01mreturn\u001b[39;00m \u001b[43mgca\u001b[49m\u001b[43m(\u001b[49m\u001b[43m)\u001b[49m\u001b[43m.\u001b[49m\u001b[43mplot\u001b[49m\u001b[43m(\u001b[49m\n\u001b[32m   3839\u001b[39m \u001b[43m        \u001b[49m\u001b[43m*\u001b[49m\u001b[43margs\u001b[49m\u001b[43m,\u001b[49m\n\u001b[32m   3840\u001b[39m \u001b[43m        \u001b[49m\u001b[43mscalex\u001b[49m\u001b[43m=\u001b[49m\u001b[43mscalex\u001b[49m\u001b[43m,\u001b[49m\n\u001b[32m   3841\u001b[39m \u001b[43m        \u001b[49m\u001b[43mscaley\u001b[49m\u001b[43m=\u001b[49m\u001b[43mscaley\u001b[49m\u001b[43m,\u001b[49m\n\u001b[32m   3842\u001b[39m \u001b[43m        \u001b[49m\u001b[43m*\u001b[49m\u001b[43m*\u001b[49m\u001b[43m(\u001b[49m\u001b[43m{\u001b[49m\u001b[33;43m\"\u001b[39;49m\u001b[33;43mdata\u001b[39;49m\u001b[33;43m\"\u001b[39;49m\u001b[43m:\u001b[49m\u001b[43m \u001b[49m\u001b[43mdata\u001b[49m\u001b[43m}\u001b[49m\u001b[43m \u001b[49m\u001b[38;5;28;43;01mif\u001b[39;49;00m\u001b[43m \u001b[49m\u001b[43mdata\u001b[49m\u001b[43m \u001b[49m\u001b[38;5;129;43;01mis\u001b[39;49;00m\u001b[43m \u001b[49m\u001b[38;5;129;43;01mnot\u001b[39;49;00m\u001b[43m \u001b[49m\u001b[38;5;28;43;01mNone\u001b[39;49;00m\u001b[43m \u001b[49m\u001b[38;5;28;43;01melse\u001b[39;49;00m\u001b[43m \u001b[49m\u001b[43m{\u001b[49m\u001b[43m}\u001b[49m\u001b[43m)\u001b[49m\u001b[43m,\u001b[49m\n\u001b[32m   3843\u001b[39m \u001b[43m        \u001b[49m\u001b[43m*\u001b[49m\u001b[43m*\u001b[49m\u001b[43mkwargs\u001b[49m\u001b[43m,\u001b[49m\n\u001b[32m   3844\u001b[39m \u001b[43m    \u001b[49m\u001b[43m)\u001b[49m\n",
      "\u001b[36mFile \u001b[39m\u001b[32m~/.local/lib/python3.12/site-packages/matplotlib/axes/_axes.py:1777\u001b[39m, in \u001b[36mAxes.plot\u001b[39m\u001b[34m(self, scalex, scaley, data, *args, **kwargs)\u001b[39m\n\u001b[32m   1534\u001b[39m \u001b[38;5;250m\u001b[39m\u001b[33;03m\"\"\"\u001b[39;00m\n\u001b[32m   1535\u001b[39m \u001b[33;03mPlot y versus x as lines and/or markers.\u001b[39;00m\n\u001b[32m   1536\u001b[39m \n\u001b[32m   (...)\u001b[39m\u001b[32m   1774\u001b[39m \u001b[33;03m(``'green'``) or hex strings (``'#008000'``).\u001b[39;00m\n\u001b[32m   1775\u001b[39m \u001b[33;03m\"\"\"\u001b[39;00m\n\u001b[32m   1776\u001b[39m kwargs = cbook.normalize_kwargs(kwargs, mlines.Line2D)\n\u001b[32m-> \u001b[39m\u001b[32m1777\u001b[39m lines = [*\u001b[38;5;28mself\u001b[39m._get_lines(\u001b[38;5;28mself\u001b[39m, *args, data=data, **kwargs)]\n\u001b[32m   1778\u001b[39m \u001b[38;5;28;01mfor\u001b[39;00m line \u001b[38;5;129;01min\u001b[39;00m lines:\n\u001b[32m   1779\u001b[39m     \u001b[38;5;28mself\u001b[39m.add_line(line)\n",
      "\u001b[36mFile \u001b[39m\u001b[32m~/.local/lib/python3.12/site-packages/matplotlib/axes/_base.py:297\u001b[39m, in \u001b[36m_process_plot_var_args.__call__\u001b[39m\u001b[34m(self, axes, data, return_kwargs, *args, **kwargs)\u001b[39m\n\u001b[32m    295\u001b[39m     this += args[\u001b[32m0\u001b[39m],\n\u001b[32m    296\u001b[39m     args = args[\u001b[32m1\u001b[39m:]\n\u001b[32m--> \u001b[39m\u001b[32m297\u001b[39m \u001b[38;5;28;01myield from\u001b[39;00m \u001b[38;5;28;43mself\u001b[39;49m\u001b[43m.\u001b[49m\u001b[43m_plot_args\u001b[49m\u001b[43m(\u001b[49m\n\u001b[32m    298\u001b[39m \u001b[43m    \u001b[49m\u001b[43maxes\u001b[49m\u001b[43m,\u001b[49m\u001b[43m \u001b[49m\u001b[43mthis\u001b[49m\u001b[43m,\u001b[49m\u001b[43m \u001b[49m\u001b[43mkwargs\u001b[49m\u001b[43m,\u001b[49m\u001b[43m \u001b[49m\u001b[43mambiguous_fmt_datakey\u001b[49m\u001b[43m=\u001b[49m\u001b[43mambiguous_fmt_datakey\u001b[49m\u001b[43m,\u001b[49m\n\u001b[32m    299\u001b[39m \u001b[43m    \u001b[49m\u001b[43mreturn_kwargs\u001b[49m\u001b[43m=\u001b[49m\u001b[43mreturn_kwargs\u001b[49m\n\u001b[32m    300\u001b[39m \u001b[43m\u001b[49m\u001b[43m)\u001b[49m\n",
      "\u001b[36mFile \u001b[39m\u001b[32m~/.local/lib/python3.12/site-packages/matplotlib/axes/_base.py:494\u001b[39m, in \u001b[36m_process_plot_var_args._plot_args\u001b[39m\u001b[34m(self, axes, tup, kwargs, return_kwargs, ambiguous_fmt_datakey)\u001b[39m\n\u001b[32m    491\u001b[39m     axes.yaxis.update_units(y)\n\u001b[32m    493\u001b[39m \u001b[38;5;28;01mif\u001b[39;00m x.shape[\u001b[32m0\u001b[39m] != y.shape[\u001b[32m0\u001b[39m]:\n\u001b[32m--> \u001b[39m\u001b[32m494\u001b[39m     \u001b[38;5;28;01mraise\u001b[39;00m \u001b[38;5;167;01mValueError\u001b[39;00m(\u001b[33mf\u001b[39m\u001b[33m\"\u001b[39m\u001b[33mx and y must have same first dimension, but \u001b[39m\u001b[33m\"\u001b[39m\n\u001b[32m    495\u001b[39m                      \u001b[33mf\u001b[39m\u001b[33m\"\u001b[39m\u001b[33mhave shapes \u001b[39m\u001b[38;5;132;01m{\u001b[39;00mx.shape\u001b[38;5;132;01m}\u001b[39;00m\u001b[33m and \u001b[39m\u001b[38;5;132;01m{\u001b[39;00my.shape\u001b[38;5;132;01m}\u001b[39;00m\u001b[33m\"\u001b[39m)\n\u001b[32m    496\u001b[39m \u001b[38;5;28;01mif\u001b[39;00m x.ndim > \u001b[32m2\u001b[39m \u001b[38;5;129;01mor\u001b[39;00m y.ndim > \u001b[32m2\u001b[39m:\n\u001b[32m    497\u001b[39m     \u001b[38;5;28;01mraise\u001b[39;00m \u001b[38;5;167;01mValueError\u001b[39;00m(\u001b[33mf\u001b[39m\u001b[33m\"\u001b[39m\u001b[33mx and y can be no greater than 2D, but have \u001b[39m\u001b[33m\"\u001b[39m\n\u001b[32m    498\u001b[39m                      \u001b[33mf\u001b[39m\u001b[33m\"\u001b[39m\u001b[33mshapes \u001b[39m\u001b[38;5;132;01m{\u001b[39;00mx.shape\u001b[38;5;132;01m}\u001b[39;00m\u001b[33m and \u001b[39m\u001b[38;5;132;01m{\u001b[39;00my.shape\u001b[38;5;132;01m}\u001b[39;00m\u001b[33m\"\u001b[39m)\n",
      "\u001b[31mValueError\u001b[39m: x and y must have same first dimension, but have shapes (200, 1) and (1, 200)"
     ]
    },
    {
     "data": {
      "image/png": "[encoded data removed]",
      "text/plain": [
       "<Figure size 600x400 with 1 Axes>"
      ]
     },
     "metadata": {},
     "output_type": "display_data"
    }
   ],
   "source": [
    "# Plot the Results\n",
    "plt.figure(figsize=(6,4))\n",
    "\n",
    "plt.plot(t_test, y_true, label='Analytical')\n",
    "plt.plot(t_test, y_pred_np, label='PINN Prediction')\n",
    "plt.xlabel('t')\n",
    "plt.ylabel('T(t)')\n",
    "plt.title('Analytical vs PINN‐predicted solution')\n",
    "plt.legend()\n",
    "plt.grid(True)\n",
    "plt.tight_layout()\n",
    "plt.show()"
   ]
  }
 ],
 "metadata": {
  "kernelspec": {
   "display_name": "Python 3 (ipykernel)",
   "language": "python",
   "name": "python3"
  },
  "language_info": {
   "codemirror_mode": {
    "name": "ipython",
    "version": 3
   },
   "file_extension": ".py",
   "mimetype": "text/x-python",
   "name": "python",
   "nbconvert_exporter": "python",
   "pygments_lexer": "ipython3",
   "version": "3.12.1"
  }
 },
 "nbformat": 4,
 "nbformat_minor": 5
}
