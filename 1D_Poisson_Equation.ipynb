{
 "cells": [
  {
   "cell_type": "markdown",
   "id": "8ae421b3",
   "metadata": {},
   "source": [
    "# Solving the 1D Poisson Equation Using Physics-Informed Neural Networks (PINNs)\n",
    "\n",
    "## Problem Statement\n",
    "\n",
    "The **1D Poisson equation** is a fundamental partial differential equation (PDE) that appears in various areas of physics and engineering, including **electrostatics**, **heat conduction**, and **mechanical deformation**.\n",
    "\n",
    "In its general form, the equation is:\n",
    "\n",
    "$$\n",
    "\\frac{d^2u(x)}{dx^2} = -\\,f(x), \\quad x \\in (0, 1)\n",
    "$$\n",
    "\n",
    "Where:  \n",
    "- $u(x)$ is the unknown function (e.g., electric potential or temperature),  \n",
    "- $f(x)$ is a prescribed source function (e.g., charge density or heat source),  \n",
    "- The domain is one-dimensional: $x \\in [0, 1]$.\n",
    "\n",
    "---\n",
    "\n",
    "## Gaussian (Localized) Source\n",
    "\n",
    "For this example we choose a **localized Gaussian source**:\n",
    "\n",
    "$$\n",
    "f(x) = A \\exp\\!\\Bigl(-\\frac{(x - x_0)^2}{2\\,\\sigma^2}\\Bigr),\n",
    "$$\n",
    "\n",
    "with typical parameter values  \n",
    "- $A = 1.0$  \n",
    "- $x_0 = 0.5$  \n",
    "- $\\sigma = 0.1$  \n",
    "\n",
    "This models a “hot spot” or concentrated load centered at $x_0$, and tests how well the PINN captures sharp spatial variations.\n",
    "\n",
    "---\n",
    "\n",
    "## Boundary Conditions\n",
    "\n",
    "To obtain a well-posed problem, we impose **Dirichlet boundary conditions**:\n",
    "\n",
    "$$\n",
    "u(0) = 0, \\quad u(1) = 0\n",
    "$$\n",
    "\n",
    "This corresponds to a rod with both ends held at zero temperature (or a grounded wire).\n",
    "\n",
    "---\n",
    "\n",
    "## Analytical Solution\n",
    "\n",
    "The exact solution of\n",
    "\n",
    "$$\n",
    "u''(x) + f(x) = 0,\\quad u(0)=u(1)=0,\n",
    "$$\n",
    "\n",
    "with $f(x)=A\\exp\\bigl(-\\tfrac{(x-x_0)^2}{2\\sigma^2}\\bigr)$ can be written in terms of the Green’s function\n",
    "\n",
    "$$\n",
    "G(x,s)=\n",
    "\\begin{cases}\n",
    "s\\,(1 - x), & s \\le x,\\\\\n",
    "x\\,(1 - s), & s > x,\n",
    "\\end{cases}\n",
    "$$\n",
    "\n",
    "as the integral\n",
    "\n",
    "$$\n",
    "\\boxed{\n",
    "u_{\\rm exact}(x)\n",
    "=\n",
    "\\int_{0}^{1} G(x,s)\\,f(s)\\,\\mathrm{d}s\n",
    "=\n",
    "A\\Bigl[\\,\n",
    "(1 - x)\\!\\!\\int_{0}^{x} s\\,e^{-\\frac{(s-x_0)^2}{2\\sigma^2}}\\,ds\n",
    "\\;+\\;\n",
    "x\\!\\int_{x}^{1}(1 - s)\\,e^{-\\frac{(s-x_0)^2}{2\\sigma^2}}\\,ds\n",
    "\\Bigr].\n",
    "}\n",
    "$$\n",
    "\n",
    "In practice this is evaluated numerically (e.g., via the trapezoidal rule) to produce an “analytical” reference curve.\n",
    "\n",
    "---\n",
    "\n",
    "## PINN Objective\n",
    "\n",
    "We aim to approximate $u(x)$ by training a neural network to minimize the combined loss\n",
    "\n",
    "$$\n",
    "\\mathcal{L} = \\underbrace{\\mathrm{MSE}_{\\mathrm{res}}}_{\\text{PDE residual}} \\;+\\; \\underbrace{\\mathrm{MSE}_{\\mathrm{bc}}}_{\\text{boundary conditions}}.\n",
    "$$\n",
    "\n",
    "Here,\n",
    "\n",
    "- $$\\mathrm{MSE}_{\\mathrm{res}} = \\frac{1}{N_r} \\sum_{i=1}^{N_r} \\Bigl(u_{xx}(x_i) + A \\exp\\bigl(-\\tfrac{(x_i - x_0)^2}{2\\sigma^2}\\bigr)\\Bigr)^2,$$  \n",
    "- $$\\mathrm{MSE}_{\\mathrm{bc}} = \\bigl(u(0) - 0\\bigr)^2 + \\bigl(u(1) - 0\\bigr)^2.$$\n",
    "\n",
    "where $u_{xx}(x_i)$ is the second derivative of the network’s prediction at the residual points $x_i$.\n",
    "\n",
    "---\n",
    "\n",
    "## Why Use PINNs?\n",
    "\n",
    "Traditional methods (finite difference, finite element) require meshing and can struggle with sharp localized features. PINNs:\n",
    "\n",
    "- **Encode the PDE directly** into the loss  \n",
    "- Are **mesh-free** and flexible  \n",
    "- Can **resolve sharp gradients** without special mesh refinement  \n",
    "\n",
    "Let’s now build and train our PINN to tackle this Gaussian-source Poisson problem!\n"
   ]
  },
  {
   "cell_type": "code",
   "execution_count": 11,
   "id": "abdcf18d",
   "metadata": {},
   "outputs": [],
   "source": [
    "import torch\n",
    "import torch.nn as nn\n",
    "import numpy as np\n",
    "import matplotlib.pyplot as plt"
   ]
  },
  {
   "cell_type": "code",
   "execution_count": 12,
   "id": "6d7b7331",
   "metadata": {},
   "outputs": [],
   "source": [
    "class NeuralNetwork(nn.Module):\n",
    "    def __init__(self):\n",
    "        super().__init__()\n",
    "        self.net = nn.Sequential(\n",
    "            nn.Linear(1, 50),\n",
    "            nn.Tanh(),\n",
    "            nn.Linear(50, 50),\n",
    "            nn.Tanh(),\n",
    "            nn.Linear(50, 50),\n",
    "            nn.Tanh(),\n",
    "            nn.Linear(50, 1)\n",
    "        )\n",
    "\n",
    "    def forward(self, x):\n",
    "        return self.net(x)"
   ]
  },
  {
   "cell_type": "code",
   "execution_count": 13,
   "id": "a64287ca",
   "metadata": {},
   "outputs": [],
   "source": [
    "def pde(x, x0, A, sigma, network):\n",
    "    x = x.clone().detach().requires_grad_(True)\n",
    "\n",
    "    u = network(x)   # Network Prediction\n",
    "    u_x = torch.autograd.grad(u, x, grad_outputs=torch.ones_like(u), create_graph=True)[0]   # First Derivative\n",
    "    u_xx = torch.autograd.grad(u_x, x, grad_outputs=torch.ones_like(u_x), create_graph=True)[0]   # Second Derivative\n",
    "\n",
    "    source = A * torch.exp(-(x - x0)**2/(2 * sigma**2))\n",
    "\n",
    "    return u_xx + source"
   ]
  },
  {
   "cell_type": "code",
   "execution_count": 14,
   "id": "f93c3117",
   "metadata": {},
   "outputs": [],
   "source": [
    "def loss(network, x, x0, x_bc, y_bc, A, sigma):\n",
    "    res = pde(x, x0, A, sigma, network)\n",
    "    MSE_res = torch.mean(res**2)\n",
    "\n",
    "    y_bc_pred = network(x_bc)\n",
    "    MSE_bc = torch.mean((y_bc_pred - y_bc)**2)\n",
    "\n",
    "    return MSE_res + MSE_bc"
   ]
  },
  {
   "cell_type": "code",
   "execution_count": 15,
   "id": "c2aa22df",
   "metadata": {},
   "outputs": [],
   "source": [
    "def train(network, x, x0, x_bc, y_bc, A, sigma, epochs, lr = 1e-3):\n",
    "    optimizer = torch.optim.Adam(network.parameters(), lr=lr)\n",
    "    loss_list = []\n",
    "\n",
    "    for epoch in range(1, epochs + 1):\n",
    "        optimizer.zero_grad()\n",
    "        loss_value = loss(network, x, x0, x_bc, y_bc, A, sigma)\n",
    "        loss_list.append(loss_value.item())\n",
    "        loss_value.backward()\n",
    "        optimizer.step()\n",
    "\n",
    "        if epoch % 100 == 0 or epoch == 1:\n",
    "            print(f\"Epoch {epoch}/{epochs} — Loss: {loss_value.item():.3e}\")\n",
    "\n",
    "    return loss_list"
   ]
  },
  {
   "cell_type": "code",
   "execution_count": 16,
   "id": "6bd3723b",
   "metadata": {},
   "outputs": [
    {
     "name": "stdout",
     "output_type": "stream",
     "text": [
      "Epoch 1/2500 — Loss: 1.635e-01\n",
      "Epoch 100/2500 — Loss: 3.926e-03\n",
      "Epoch 200/2500 — Loss: 3.907e-04\n",
      "Epoch 300/2500 — Loss: 2.185e-04\n",
      "Epoch 400/2500 — Loss: 9.738e-05\n",
      "Epoch 500/2500 — Loss: 2.890e-05\n",
      "Epoch 600/2500 — Loss: 4.314e-05\n",
      "Epoch 700/2500 — Loss: 3.623e-06\n",
      "Epoch 800/2500 — Loss: 2.471e-06\n",
      "Epoch 900/2500 — Loss: 6.209e-06\n",
      "Epoch 1000/2500 — Loss: 2.341e-06\n",
      "Epoch 1100/2500 — Loss: 2.272e-06\n",
      "Epoch 1200/2500 — Loss: 2.638e-06\n",
      "Epoch 1300/2500 — Loss: 2.253e-06\n",
      "Epoch 1400/2500 — Loss: 2.185e-06\n",
      "Epoch 1500/2500 — Loss: 2.297e-06\n",
      "Epoch 1600/2500 — Loss: 2.939e-06\n",
      "Epoch 1700/2500 — Loss: 5.682e-04\n",
      "Epoch 1800/2500 — Loss: 2.177e-06\n",
      "Epoch 1900/2500 — Loss: 2.088e-06\n",
      "Epoch 2000/2500 — Loss: 2.955e-06\n",
      "Epoch 2100/2500 — Loss: 2.093e-06\n",
      "Epoch 2200/2500 — Loss: 6.125e-06\n",
      "Epoch 2300/2500 — Loss: 4.824e-05\n",
      "Epoch 2400/2500 — Loss: 2.079e-06\n",
      "Epoch 2500/2500 — Loss: 1.975e-06\n"
     ]
    }
   ],
   "source": [
    "# Collocation points in the interior\n",
    "x_train = np.linspace(0, 1, 5000).reshape(-1,1)\n",
    "x_train = torch.tensor(x_train, dtype=torch.float32)\n",
    "\n",
    "# Gaussian source parameters\n",
    "A = 1.0\n",
    "x0 = 0.5\n",
    "sigma = 0.1\n",
    "\n",
    "# Boundary‐condition points and values\n",
    "x_bc = torch.tensor([[0.0], [1.0]], dtype=torch.float32)   # x=0 and x=1\n",
    "y_bc = torch.tensor([[0.0], [0.0]], dtype=torch.float32)   # u(0)=0 and u(1)=0\n",
    "\n",
    "# Training hyperparameters\n",
    "epochs = 2500\n",
    "lr = 1e-3\n",
    "\n",
    "#  Instantiate and train the model\n",
    "model = NeuralNetwork()\n",
    "loss_list = train(model, x_train, x0, x_bc, y_bc, A, sigma, epochs, lr)\n"
   ]
  },
  {
   "cell_type": "code",
   "execution_count": 17,
   "id": "4496212a",
   "metadata": {},
   "outputs": [
    {
     "data": {
      "image/png": "[encoded data removed]",
      "text/plain": [
       "<Figure size 600x400 with 1 Axes>"
      ]
     },
     "metadata": {},
     "output_type": "display_data"
    }
   ],
   "source": [
    "plt.figure(figsize=(6,4))\n",
    "plt.plot(range(1, epochs+1), loss_list)\n",
    "plt.xlabel('Epoch')\n",
    "plt.ylabel('Loss')\n",
    "plt.title('Training Loss over Epochs')\n",
    "plt.grid(True)\n",
    "plt.tight_layout()\n",
    "plt.show()"
   ]
  },
  {
   "cell_type": "markdown",
   "id": "079761e2",
   "metadata": {},
   "source": [
    "### Testing the model"
   ]
  },
  {
   "cell_type": "code",
   "execution_count": 18,
   "id": "6550656c",
   "metadata": {},
   "outputs": [],
   "source": [
    "def analytical_u(x_vals, A, x0, sigma):\n",
    "    s = np.linspace(0, 1, 2001)\n",
    "    f_s = A * np.exp(-(s - x0)**2 / (2 * sigma**2))\n",
    "    u_vals = []\n",
    "    \n",
    "    for xi in x_vals:\n",
    "        mask1 = s <= xi\n",
    "        mask2 = s >= xi\n",
    "        I1 = np.trapz((1 - xi) * s[mask1] * f_s[mask1], s[mask1])\n",
    "        I2 = np.trapz(xi * (1 - s[mask2]) * f_s[mask2], s[mask2])\n",
    "        u_vals.append(I1 + I2)\n",
    "\n",
    "    return np.array(u_vals)"
   ]
  },
  {
   "cell_type": "code",
   "execution_count": 19,
   "id": "ce3b8ea8",
   "metadata": {},
   "outputs": [
    {
     "name": "stderr",
     "output_type": "stream",
     "text": [
      "/tmp/ipykernel_13123/3319267873.py:9: DeprecationWarning: `trapz` is deprecated. Use `trapezoid` instead, or one of the numerical integration functions in `scipy.integrate`.\n",
      "  I1 = np.trapz((1 - xi) * s[mask1] * f_s[mask1], s[mask1])\n",
      "/tmp/ipykernel_13123/3319267873.py:10: DeprecationWarning: `trapz` is deprecated. Use `trapezoid` instead, or one of the numerical integration functions in `scipy.integrate`.\n",
      "  I2 = np.trapz(xi * (1 - s[mask2]) * f_s[mask2], s[mask2])\n"
     ]
    }
   ],
   "source": [
    "x_test = np.linspace(0, 1, 1000).reshape(-1,1)\n",
    "x_test = torch.tensor(x_test, dtype=torch.float32)\n",
    "\n",
    "model.eval()\n",
    "\n",
    "with torch.no_grad():\n",
    "    y_pred = model(x_test)\n",
    "\n",
    "y_pred_np = y_pred.cpu().numpy()\n",
    "\n",
    "# Analytical Solution\n",
    "x_test_np = x_test.cpu().numpy().flatten()\n",
    "y_true = analytical_u(x_test_np, A, x0, sigma)"
   ]
  },
  {
   "cell_type": "code",
   "execution_count": 20,
   "id": "b1d58f38",
   "metadata": {},
   "outputs": [
    {
     "data": {
      "image/png": "[encoded data removed]",
      "text/plain": [
       "<Figure size 600x400 with 1 Axes>"
      ]
     },
     "metadata": {},
     "output_type": "display_data"
    }
   ],
   "source": [
    "# Plot the Results\n",
    "plt.figure(figsize=(6,4))\n",
    "\n",
    "plt.plot(x_test, y_true, 'b-', label='Analytical')\n",
    "plt.plot(x_test, y_pred_np, 'r--', label='PINN Prediction')\n",
    "plt.xlabel('x')\n",
    "plt.ylabel('u(x)')\n",
    "plt.title('Analytical vs PINN‐predicted solution')\n",
    "plt.legend()\n",
    "plt.grid(True)\n",
    "plt.tight_layout()\n",
    "plt.show()"
   ]
  }
 ],
 "metadata": {
  "kernelspec": {
   "display_name": "Python 3 (ipykernel)",
   "language": "python",
   "name": "python3"
  },
  "language_info": {
   "codemirror_mode": {
    "name": "ipython",
    "version": 3
   },
   "file_extension": ".py",
   "mimetype": "text/x-python",
   "name": "python",
   "nbconvert_exporter": "python",
   "pygments_lexer": "ipython3",
   "version": "3.12.1"
  }
 },
 "nbformat": 4,
 "nbformat_minor": 5
}
